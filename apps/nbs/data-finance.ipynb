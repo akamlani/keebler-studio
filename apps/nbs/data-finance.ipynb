{
 "cells": [
  {
   "cell_type": "code",
   "execution_count": null,
   "metadata": {},
   "outputs": [],
   "source": [
    "import numpy as np \n",
    "import pandas as pd\n",
    "import yfinance as yf \n",
    "#yf.__version__\n",
    "#!pip install -U yfinance"
   ]
  },
  {
   "cell_type": "code",
   "execution_count": null,
   "metadata": {},
   "outputs": [],
   "source": [
    "# 1OO days max to feed the naas_driver for prediction\n",
    "TICKER = \"TSLA\"\n",
    "date_from = -100 \n",
    "date_to = \"today\"\n",
    "\n",
    "# df_ticker = yf.get(\n",
    "#     tickers=TICKER,\n",
    "#     date_from=date_from,\n",
    "#     date_to=date_to\n",
    "# ).dropna().reset_index(drop=True)\n",
    "aapl = yf.Ticker(\"AAPL\") \n",
    "aapl.info\n",
    "# get historical market data\n",
    "hist = aapl.history(period=\"max\")\n",
    "hist.head()\n"
   ]
  },
  {
   "cell_type": "code",
   "execution_count": null,
   "metadata": {},
   "outputs": [],
   "source": []
  }
 ],
 "metadata": {
  "kernelspec": {
   "display_name": "Python 3.10.4 64-bit",
   "language": "python",
   "name": "python3"
  },
  "language_info": {
   "codemirror_mode": {
    "name": "ipython",
    "version": 3
   },
   "file_extension": ".py",
   "mimetype": "text/x-python",
   "name": "python",
   "nbconvert_exporter": "python",
   "pygments_lexer": "ipython3",
   "version": "3.10.4"
  },
  "vscode": {
   "interpreter": {
    "hash": "3ad933181bd8a04b432d3370b9dc3b0662ad032c4dfaa4e4f1596c548f763858"
   }
  }
 },
 "nbformat": 4,
 "nbformat_minor": 2
}
