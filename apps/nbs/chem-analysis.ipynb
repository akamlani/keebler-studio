{
 "cells": [
  {
   "cell_type": "code",
   "execution_count": null,
   "metadata": {},
   "outputs": [],
   "source": [
    "import numpy as np \n",
    "import pandas as pd "
   ]
  },
  {
   "cell_type": "code",
   "execution_count": null,
   "metadata": {},
   "outputs": [],
   "source": [
    "df = pd.read_csv(\"../../data/chemical-formula/CNH_033_full.csv\", index_col=0)\n",
    "df.iloc[:,:13].head()"
   ]
  },
  {
   "cell_type": "code",
   "execution_count": null,
   "metadata": {},
   "outputs": [],
   "source": [
    "df_c = df.copy()\n",
    "# stats.skew(series, bias=False)\n",
    "# default behavior: categories are unordered and inferred from data\n",
    "# controlled behavior: use an instance of CategoricalDtype instead of 'category'\n",
    "df_c['scan id'] = df_c['scan id'].astype(\"category\")\n",
    "df_c[['silver_nitrate', 'temp', 'well', 'scan id']].describe(include='all').head()\n",
    "df_c[['silver_nitrate', 'temp', 'well', 'scan id']].describe(include=[np.number]).head()            # only numerical\n",
    "df_c[['silver_nitrate', 'temp', 'well', 'scan id']].describe(include=[object]).head()               # only string values\n",
    "df_c[['silver_nitrate', 'temp', 'well', 'scan id']].describe(include=[object, 'category']).head()   # only string categorical values\n",
    "# set categories \n",
    "from typing import List \n",
    "def set_categorical_ordering(ds:pd.Series, ordering:List[str]) -> pd.Series:\n",
    "    \"\"\"\n",
    "    Example: \n",
    "    >>> categories=['b','c','d']\n",
    "    \"\"\"\n",
    "    cat_type = pd.CategoricalDtype(categories=ordering, ordered=True)\n",
    "    return ds.astype(cat_type)\n",
    "\n",
    "xs = pd.Series([\"Normal\", \"High\", \"Critical\", \"Moderate\"])\n",
    "set_categorical_ordering(xs,['Normal','Moderate','High','Critical'])\n"
   ]
  },
  {
   "cell_type": "code",
   "execution_count": null,
   "metadata": {},
   "outputs": [],
   "source": [
    "(3,) + (4,5)"
   ]
  },
  {
   "cell_type": "code",
   "execution_count": null,
   "metadata": {},
   "outputs": [],
   "source": []
  }
 ],
 "metadata": {
  "kernelspec": {
   "display_name": "Python 3.10.4 64-bit",
   "language": "python",
   "name": "python3"
  },
  "language_info": {
   "codemirror_mode": {
    "name": "ipython",
    "version": 3
   },
   "file_extension": ".py",
   "mimetype": "text/x-python",
   "name": "python",
   "nbconvert_exporter": "python",
   "pygments_lexer": "ipython3",
   "version": "3.10.4"
  },
  "vscode": {
   "interpreter": {
    "hash": "3ad933181bd8a04b432d3370b9dc3b0662ad032c4dfaa4e4f1596c548f763858"
   }
  }
 },
 "nbformat": 4,
 "nbformat_minor": 2
}
