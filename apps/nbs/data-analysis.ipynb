{
 "cells": [
  {
   "cell_type": "code",
   "execution_count": null,
   "metadata": {},
   "outputs": [],
   "source": [
    "import numpy  as np \n",
    "import pandas as pd \n",
    "import matplotlib.pyplot as plt \n",
    "import seaborn as sns\n",
    "\n",
    "import sparklines"
   ]
  },
  {
   "cell_type": "code",
   "execution_count": null,
   "metadata": {},
   "outputs": [],
   "source": [
    "def calculate_stats(ds:pd.Series, col:str) -> pd.Series:\n",
    "    stats = {f.__name__:f(ds[col]) for f in [np.min, np.max, np.mean, np.std]}\n",
    "    return pd.Series(stats) "
   ]
  },
  {
   "cell_type": "code",
   "execution_count": null,
   "metadata": {},
   "outputs": [],
   "source": [
    "uri = 'https://raw.githubusercontent.com/plotly/datasets/master/2016-weather-data-seattle.csv' \n",
    "df  = pd.read_csv(uri)\n",
    "df.columns = map(lambda s: s.lower(), df.columns)\n",
    "df = df.assign(\n",
    "    date=pd.to_datetime(df['date']),\n",
    "    month=pd.to_datetime(df['date']).dt.month\n",
    ").sort_values('month').set_index('date')\n",
    "\n",
    "df = df.groupby('month') \\\n",
    "       .apply(lambda row: calculate_stats(row, 'mean_temperaturec'))\n",
    "\n",
    "df.style \\\n",
    "  .format('{:.2f}') \\\n",
    "  .bar(align='mid', color=['#FCC0CB', '#90EE90']) \\\n",
    "  .set_properties(padding=\"15px\", border='2px solid white', width='100px')\n",
    "\n",
    "\n",
    "\n",
    "#df.groupby('month').agg(flow_trend=('mean_temperaturec', lambda ser: plt.plot(ser)))\n",
    "# df.groupby(\"month\").agg(flow_trend=('mean_temperaturec', lambda ser: \n",
    "#     sparklines.sparklines(ser\n",
    "#      .fillna(0)\n",
    "#         .resample('2D')\n",
    "#         .median()\n",
    "#         .fillna(0))\n",
    "#         [0]\n",
    "#     ))\n",
    "\n"
   ]
  },
  {
   "cell_type": "code",
   "execution_count": null,
   "metadata": {},
   "outputs": [],
   "source": [
    "def sparkline_dist(data):\n",
    "    hist         = np.histogram(data, bins=10)[0]\n",
    "    dist_strings = ''.join(sparklines.sparklines(hist))\n",
    "    return dist_strings\n",
    "\n",
    "df_c = pd.DataFrame({\n",
    "    'a': np.random.normal(0, 1, 100),\n",
    "    'b': np.random.normal(1, 1, 100),\n",
    "    'c': np.random.normal(0, 3, 100)\n",
    "})\n",
    "\n",
    "df_stats = df_c.agg(['mean', 'std']).T\n",
    "df_stats['histogram'] = [sparkline_dist(df_c[col]) for col in df_c.columns]\n",
    "df_stats.style \\\n",
    "  .format('{:.2f}', subset=['mean', 'std']) \\\n",
    "  .set_caption('A Sample Table with Sparklines Distributions') \\\n",
    "  .set_properties(padding=\"15px\", border='2px solid white')s\n"
   ]
  },
  {
   "cell_type": "code",
   "execution_count": null,
   "metadata": {},
   "outputs": [],
   "source": []
  }
 ],
 "metadata": {
  "kernelspec": {
   "display_name": "Python 3.10.4 64-bit",
   "language": "python",
   "name": "python3"
  },
  "language_info": {
   "codemirror_mode": {
    "name": "ipython",
    "version": 3
   },
   "file_extension": ".py",
   "mimetype": "text/x-python",
   "name": "python",
   "nbconvert_exporter": "python",
   "pygments_lexer": "ipython3",
   "version": "3.10.4"
  },
  "vscode": {
   "interpreter": {
    "hash": "3ad933181bd8a04b432d3370b9dc3b0662ad032c4dfaa4e4f1596c548f763858"
   }
  }
 },
 "nbformat": 4,
 "nbformat_minor": 2
}
